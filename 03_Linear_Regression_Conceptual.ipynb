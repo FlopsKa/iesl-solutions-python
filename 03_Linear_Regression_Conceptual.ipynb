{
 "cells": [
  {
   "cell_type": "markdown",
   "metadata": {},
   "source": [
    "# 3.7 Exercises"
   ]
  },
  {
   "cell_type": "markdown",
   "metadata": {},
   "source": [
    "## Conceptual"
   ]
  },
  {
   "cell_type": "markdown",
   "metadata": {},
   "source": [
    "### 1"
   ]
  },
  {
   "cell_type": "markdown",
   "metadata": {},
   "source": [
    "1. Describe the null hypotheses to which the p-values given in Table 3.4 (see  below) correspond. Explain what conclusions you ca ndraw based on these p-values. Your explanation should be phrased in terms of _sales_, _TV_, _radio_, and _newspaper_, rathen than in terms of the coefficients of the linear model.\n",
    "    \n",
    "__Answers__\n",
    "\n",
    "1. \n",
    "    __TODO__"
   ]
  },
  {
   "cell_type": "markdown",
   "metadata": {},
   "source": [
    "### 2"
   ]
  },
  {
   "cell_type": "markdown",
   "metadata": {},
   "source": [
    "1. Carefully explain the differences between the KNN classifier and KNN regression methods."
   ]
  },
  {
   "cell_type": "markdown",
   "metadata": {},
   "source": [
    "### 3"
   ]
  },
  {
   "cell_type": "markdown",
   "metadata": {},
   "source": [
    "1. Suppose we have a data set with five predictors, $X_1 = $ GPA, $X_2 =$ IQ, $X_3 =$ Gender (1 for Female and 0 for Male), $X_4 = $ Interaction between GPA and IQ, and $X_5 = $ Interaction between GPA and Gender. The response is starting salary after graduation (in thousands of dollars). Suppose we use least squares to fit the model, and get $\\hat{\\beta}_0 = 50, \\hat{\\beta}_1 = 20, \\hat{\\beta}_2 = 0.07,\\hat{\\beta}_3 = 35,\\hat{\\beta}_4 = 0.01, \\hat{\\beta}_5 = -10$.\n",
    "\n",
    "    1. Which answer is correct and why?\n",
    "        1. For a fixed value of IQ and GPA, males earn more on average than females.\n",
    "        1. For a fixed value of IQ and GPA, females earn more on average than males.\n",
    "        1. For a fixed value of IQ and GPA, males earn more on average than females provided that the GPA is high enough.\n",
    "        1. For a fixed value of IQ and GPA, females earn more on average than males provided that the GPA is high enough.\n",
    "\n",
    "    1. Predict the salary of a female with IQ of 110 and a GPA of 4.0.\n",
    "    1. True or false: Since the coefficient for the GPA  / IQ interaction term is very small, there is very little evidence of an interaction effect. Justify your answer."
   ]
  },
  {
   "cell_type": "markdown",
   "metadata": {},
   "source": [
    "### 4"
   ]
  },
  {
   "cell_type": "markdown",
   "metadata": {},
   "source": [
    "1. I collect a set of data ($n = 100$ observations) containing a singe predictor and a quantitative response. I then fit a linear regression model to the data, as well as a separate cubic regression, i.e. $Y = \\beta_0 + \\beta_1X + \\beta_2X^2 + \\beta_3X^3 + \\epsilon$.\n",
    "\n",
    "    1. Suppose that the true relationship between X and Y is linear, i.e. $Y = \\beta_0 + \\beta_1X + \\epsilon$. Consider the training resudual sum of squares (RSS) for the linear regression. Would we expect one to be lower than the other, would we expect them to be the same, or is there not enough information to tell? Justify your answer.\n",
    "    1. Answer (a) using test rather than training RSS.\n",
    "    1. Suppose that the true relationship between X and Y is not linear, but we don't know how far it is from linear. Consider the training RSS for the linear regression, and also the training RSS for the cubic regression. Would we expect one to be lower than the other, would we expect them to be the same, or is there not enough information to tell? Justify your answer.\n",
    "    1. Answer (c) using test rather than training RSS."
   ]
  },
  {
   "cell_type": "markdown",
   "metadata": {},
   "source": [
    "### 5"
   ]
  },
  {
   "cell_type": "markdown",
   "metadata": {},
   "source": [
    "Consider the fitted values that result from performing linear regression without an intercept. In this setting, the $i$th fitted value takes the form\n",
    "\n",
    "$$\n",
    "\\hat{y}_i = x_i\\hat{\\beta},\n",
    "$$\n",
    "where\n",
    "$$\n",
    "\\hat{\\beta} = \\left(\\sum_{i=1}^nx_iy_i\\right) / \\left(\\sum_{i'=1}^nx_{i'}^2\\right).\n",
    "$$\n",
    "Show that we can write\n",
    "$$\n",
    "\\hat{y}_i = \\sum_{i'=1}^na_{i'}y_{i'}.\n",
    "$$\n",
    "What is $a_{i'}$?\n",
    "\n",
    "_Note: We interpret this result by saying that the fitted values from linear regression are_ linear combinations _of the response values._"
   ]
  },
  {
   "cell_type": "markdown",
   "metadata": {},
   "source": [
    "### 6"
   ]
  },
  {
   "cell_type": "markdown",
   "metadata": {},
   "source": [
    "1. Using (3.4) (see below), argue that in the case of simple linear regression, the least squares line always passes through the point $(\\bar x, \\bar y)$."
   ]
  },
  {
   "cell_type": "markdown",
   "metadata": {},
   "source": [
    "### 7"
   ]
  },
  {
   "cell_type": "markdown",
   "metadata": {},
   "source": [
    "It is claimed in the text that in the case of simple linear regression of Y onto X, the R² statistic (3.17) (see below) is equal to the square of the correlation between X and Y (3.18) (see below). Prove that this is the case. For simplicity, you may assume that $\\bar x = \\bar y = 0$."
   ]
  },
  {
   "cell_type": "code",
   "execution_count": null,
   "metadata": {},
   "outputs": [],
   "source": []
  }
 ],
 "metadata": {
  "kernelspec": {
   "display_name": "Python 3",
   "language": "python",
   "name": "python3"
  },
  "language_info": {
   "codemirror_mode": {
    "name": "ipython",
    "version": 3
   },
   "file_extension": ".py",
   "mimetype": "text/x-python",
   "name": "python",
   "nbconvert_exporter": "python",
   "pygments_lexer": "ipython3",
   "version": "3.6.4"
  }
 },
 "nbformat": 4,
 "nbformat_minor": 2
}
